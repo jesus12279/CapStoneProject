{
 "cells": [
  {
   "cell_type": "markdown",
   "metadata": {},
   "source": [
    "# This notebook is set to visualize and model data gathered on game systems that are considered hot these days"
   ]
  },
  {
   "cell_type": "code",
   "execution_count": null,
   "metadata": {},
   "outputs": [],
   "source": [
    "import pandas as pd\n",
    "import numpy as np\n",
    "import matplotlib.pyplot as plt\n",
    "\n",
    "from sklearn.model_selection import train_test_split\n",
    "from sklearn.ensemble import RandomForestRegressor\n",
    "from sklearn.preprocessing import LabelEncoder\n",
    "from sklearn.metrics import mean_absolute_error, r2_score\n",
    "\n",
    "%matplotlib inline"
   ]
  },
  {
   "cell_type": "markdown",
   "metadata": {},
   "source": [
    "# Working with xbox one data to predict what the Global_Sales will be"
   ]
  },
  {
   "cell_type": "code",
   "execution_count": null,
   "metadata": {
    "scrolled": true
   },
   "outputs": [],
   "source": [
    "xone = pd.read_csv('xboxone.csv')\n",
    "xone.head()"
   ]
  },
  {
   "cell_type": "code",
   "execution_count": null,
   "metadata": {},
   "outputs": [],
   "source": [
    "# Rounding the data so it cuts of those continuos variables\n",
    "xone = xone.round()"
   ]
  },
  {
   "cell_type": "code",
   "execution_count": null,
   "metadata": {},
   "outputs": [],
   "source": [
    "# Dropping the column that contained less information\n",
    "xone.drop(['Other_Sales'], axis=1, inplace=True)"
   ]
  },
  {
   "cell_type": "code",
   "execution_count": null,
   "metadata": {},
   "outputs": [],
   "source": [
    "# Initating the label encoder\n",
    "le = LabelEncoder()\n",
    "\n",
    "# Columns i need to labelencode before fitting to a model\n",
    "s = (xone.dtypes == 'object')\n",
    "object_cols = list(s[s].index)\n",
    "\n",
    "# Label encoding the columns and replacing the old columns with the new encoded data\n",
    "for i in object_cols:\n",
    "    xone[i] = le.fit_transform(xone[i])\n",
    "    "
   ]
  },
  {
   "cell_type": "code",
   "execution_count": null,
   "metadata": {},
   "outputs": [],
   "source": [
    "# Breaking up my data to then model\n",
    "used_col = [c for c in xone.columns.tolist() if c not in ['Global_Sales']]\n",
    "X, y = xone[used_col], xone.Global_Sales\n",
    "\n",
    "X_train, X_test, y_train, y_test = train_test_split(X, y)"
   ]
  },
  {
   "cell_type": "code",
   "execution_count": null,
   "metadata": {},
   "outputs": [],
   "source": [
    "# Initiating my classification model to fit into cross validation\n",
    "rfc = RandomForestRegressor(random_state=42, n_estimators=250, max_depth=4, min_samples_split=6)\n",
    "\n",
    "\n",
    "rfc.fit(X_train, y_train)\n",
    "\n",
    "train_pred = rfc.predict(X_train)\n",
    "test_pred = rfc.predict(X_test)\n",
    "\n",
    "predictions = rfc.predict(X)"
   ]
  },
  {
   "cell_type": "code",
   "execution_count": null,
   "metadata": {},
   "outputs": [],
   "source": [
    "# Getting my scores for my predictions\n",
    "print(\"Train MAE:\", mean_absolute_error(train_pred, y_train))\n",
    "print(\"Train R2:\", r2_score(train_pred, y_train))\n",
    "\n",
    "print(\"Test MAE:\", mean_absolute_error(test_pred, y_test))\n",
    "print(\"Test R2:\", r2_score(test_pred, y_test))"
   ]
  },
  {
   "cell_type": "code",
   "execution_count": null,
   "metadata": {},
   "outputs": [],
   "source": [
    "xone['Predictions'] = predictions"
   ]
  },
  {
   "cell_type": "code",
   "execution_count": null,
   "metadata": {},
   "outputs": [],
   "source": [
    "# Viewing how model did\n",
    "xone"
   ]
  },
  {
   "cell_type": "markdown",
   "metadata": {},
   "source": [
    "# Ps4 game system model predictions"
   ]
  },
  {
   "cell_type": "code",
   "execution_count": null,
   "metadata": {},
   "outputs": [],
   "source": [
    "ps4 = pd.read_csv('ps4.csv')\n",
    "ps4.drop('level_0', axis=1, inplace=True)\n",
    "ps4.head()"
   ]
  },
  {
   "cell_type": "code",
   "execution_count": null,
   "metadata": {},
   "outputs": [],
   "source": [
    "ps4 = ps4.round(2)"
   ]
  },
  {
   "cell_type": "code",
   "execution_count": null,
   "metadata": {},
   "outputs": [],
   "source": [
    "p = (ps4.dtypes == 'object')\n",
    "label_cols = list(p[p].index)\n",
    "\n",
    "# Label encoding the columns and replacing the old columns with the new encoded data\n",
    "for e in label_cols:\n",
    "    ps4[e] = le.fit_transform(ps4[e])"
   ]
  },
  {
   "cell_type": "code",
   "execution_count": null,
   "metadata": {},
   "outputs": [],
   "source": [
    "p_col = [c for c in ps4.columns.tolist() if c not in ['Global_Sales']]\n",
    "X_p, y_p = ps4[used_col], ps4.Global_Sales\n",
    "\n",
    "X_train_p, X_test_p, y_train_p, y_test_p = train_test_split(X_p, y_p)"
   ]
  },
  {
   "cell_type": "code",
   "execution_count": null,
   "metadata": {},
   "outputs": [],
   "source": [
    "rfc_ps4 = RandomForestRegressor(random_state=42, n_estimators=250, max_depth=4, min_samples_split=6)\n",
    "\n",
    "\n",
    "rfc_ps4.fit(X_train_p, y_train_p)\n",
    "\n",
    "train_pred_p = rfc_ps4.predict(X_train_p)\n",
    "test_pred_p = rfc_ps4.predict(X_test_p)\n",
    "\n",
    "predictions_p = rfc_ps4.predict(X_p)"
   ]
  },
  {
   "cell_type": "code",
   "execution_count": null,
   "metadata": {},
   "outputs": [],
   "source": [
    "print(\"Train MAE:\", mean_absolute_error(train_pred_p, y_train_p))\n",
    "print(\"Train R2:\", r2_score(train_pred_p, y_train_p))\n",
    "\n",
    "print(\"Test MAE:\", mean_absolute_error(test_pred_p, y_test_p))\n",
    "print(\"Test R2:\", r2_score(test_pred_p, y_test_p))"
   ]
  },
  {
   "cell_type": "code",
   "execution_count": null,
   "metadata": {},
   "outputs": [],
   "source": [
    "ps4['Predictions'] = predictions_p"
   ]
  },
  {
   "cell_type": "code",
   "execution_count": null,
   "metadata": {},
   "outputs": [],
   "source": [
    "print(ps4.Global_Sales.sum().round())\n",
    "print(ps4.Year_of_Release.min())\n",
    "print(ps4.Year_of_Release.max())"
   ]
  },
  {
   "cell_type": "markdown",
   "metadata": {},
   "source": [
    "# Visualz for my presentation"
   ]
  },
  {
   "cell_type": "code",
   "execution_count": null,
   "metadata": {},
   "outputs": [],
   "source": [
    "fig = plt.figure(figsize=(16,10))\n",
    "\n",
    "plt.title('PS4 VS XONE', fontsize=14)\n",
    "plt.xlabel('Video Games', fontsize=12)\n",
    "plt.ylabel('Sales in millions of units', fontsize=12)\n",
    "plt.xticks(rotation=45)\n",
    "\n",
    "plt.bar(ps4.Name[:5], ps4['Global_Sales'][:5],  label=\"PS4 Sales\")\n",
    "\n",
    "plt.bar(xone.Name[:5], xone[\"Global_Sales\"][:5], label=\"XBOX1 Sales\");"
   ]
  },
  {
   "cell_type": "code",
   "execution_count": null,
   "metadata": {},
   "outputs": [],
   "source": [
    "xone.Global_Sales.plot()\n",
    "xone.Predictions.plot(figsize=(16,10));"
   ]
  },
  {
   "cell_type": "code",
   "execution_count": null,
   "metadata": {},
   "outputs": [],
   "source": [
    "fig = plt.figure(figsize=(16,10))\n",
    "plt.bar(le.inverse_transform(xone['Publisher'][:5]), xone[\"Global_Sales\"][:5], label=\"Actual\")\n",
    "\n",
    "plt.bar(le.inverse_transform(xone['Publisher'][:5]), xone[\"Predictions\"][:5],  label=\"Predictions\")\n",
    "\n",
    "\n",
    "plt.xlabel('Categorys')\n",
    "plt.ylabel('Sales in millions of units')\n",
    "plt.title('Predictions based on genres')\n",
    "plt.legend();"
   ]
  },
  {
   "cell_type": "code",
   "execution_count": null,
   "metadata": {},
   "outputs": [],
   "source": [
    "plt.figure(figsize=(16,10))\n",
    "plt.bar(xone.Name[:5], xone.Global_Sales[:5]);"
   ]
  }
 ],
 "metadata": {
  "kernelspec": {
   "display_name": "Python [conda env:learn-env] *",
   "language": "python",
   "name": "conda-env-learn-env-py"
  },
  "language_info": {
   "codemirror_mode": {
    "name": "ipython",
    "version": 3
   },
   "file_extension": ".py",
   "mimetype": "text/x-python",
   "name": "python",
   "nbconvert_exporter": "python",
   "pygments_lexer": "ipython3",
   "version": "3.6.9"
  }
 },
 "nbformat": 4,
 "nbformat_minor": 2
}
