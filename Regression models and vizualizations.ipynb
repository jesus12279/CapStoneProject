{
 "cells": [
  {
   "cell_type": "markdown",
   "metadata": {},
   "source": [
    "# This notebook is set to visualize and model data gathered on game systems that are considered hot these days"
   ]
  },
  {
   "cell_type": "code",
   "execution_count": 1,
   "metadata": {},
   "outputs": [],
   "source": [
    "import pandas as pd\n",
    "import numpy as np\n",
    "import matplotlib.pyplot as plt\n",
    "\n",
    "from sklearn.model_selection import train_test_split\n",
    "from sklearn.ensemble import RandomForestRegressor\n",
    "from sklearn.preprocessing import LabelEncoder\n",
    "from sklearn.metrics import mean_absolute_error, r2_score\n",
    "\n",
    "%matplotlib inline"
   ]
  },
  {
   "cell_type": "markdown",
   "metadata": {},
   "source": [
    "# Working with xbox one data to predict what the Global_Sales will be"
   ]
  },
  {
   "cell_type": "code",
   "execution_count": 2,
   "metadata": {
    "scrolled": true
   },
   "outputs": [
    {
     "data": {
      "text/html": [
       "<div>\n",
       "<style scoped>\n",
       "    .dataframe tbody tr th:only-of-type {\n",
       "        vertical-align: middle;\n",
       "    }\n",
       "\n",
       "    .dataframe tbody tr th {\n",
       "        vertical-align: top;\n",
       "    }\n",
       "\n",
       "    .dataframe thead th {\n",
       "        text-align: right;\n",
       "    }\n",
       "</style>\n",
       "<table border=\"1\" class=\"dataframe\">\n",
       "  <thead>\n",
       "    <tr style=\"text-align: right;\">\n",
       "      <th></th>\n",
       "      <th>Name</th>\n",
       "      <th>Year_of_Release</th>\n",
       "      <th>Genre</th>\n",
       "      <th>Publisher</th>\n",
       "      <th>NA_Sales</th>\n",
       "      <th>EU_Sales</th>\n",
       "      <th>JP_Sales</th>\n",
       "      <th>Other_Sales</th>\n",
       "      <th>Global_Sales</th>\n",
       "    </tr>\n",
       "  </thead>\n",
       "  <tbody>\n",
       "    <tr>\n",
       "      <td>0</td>\n",
       "      <td>Call of Duty: Black Ops 3</td>\n",
       "      <td>2015.0</td>\n",
       "      <td>Shooter</td>\n",
       "      <td>Activision</td>\n",
       "      <td>4.59</td>\n",
       "      <td>2.11</td>\n",
       "      <td>0.01</td>\n",
       "      <td>0.68</td>\n",
       "      <td>7.39</td>\n",
       "    </tr>\n",
       "    <tr>\n",
       "      <td>1</td>\n",
       "      <td>Grand Theft Auto V</td>\n",
       "      <td>2014.0</td>\n",
       "      <td>Action</td>\n",
       "      <td>Take-Two Interactive</td>\n",
       "      <td>2.81</td>\n",
       "      <td>2.19</td>\n",
       "      <td>0.00</td>\n",
       "      <td>0.47</td>\n",
       "      <td>5.48</td>\n",
       "    </tr>\n",
       "    <tr>\n",
       "      <td>2</td>\n",
       "      <td>Call of Duty: Advanced Warfare</td>\n",
       "      <td>2014.0</td>\n",
       "      <td>Shooter</td>\n",
       "      <td>Activision</td>\n",
       "      <td>3.22</td>\n",
       "      <td>1.55</td>\n",
       "      <td>0.01</td>\n",
       "      <td>0.48</td>\n",
       "      <td>5.27</td>\n",
       "    </tr>\n",
       "    <tr>\n",
       "      <td>3</td>\n",
       "      <td>Halo 5: Guardians</td>\n",
       "      <td>2015.0</td>\n",
       "      <td>Shooter</td>\n",
       "      <td>Microsoft Game Studios</td>\n",
       "      <td>2.78</td>\n",
       "      <td>1.27</td>\n",
       "      <td>0.03</td>\n",
       "      <td>0.41</td>\n",
       "      <td>4.48</td>\n",
       "    </tr>\n",
       "    <tr>\n",
       "      <td>4</td>\n",
       "      <td>Fallout 4</td>\n",
       "      <td>2015.0</td>\n",
       "      <td>Role-Playing</td>\n",
       "      <td>Bethesda Softworks</td>\n",
       "      <td>2.51</td>\n",
       "      <td>1.32</td>\n",
       "      <td>0.01</td>\n",
       "      <td>0.38</td>\n",
       "      <td>4.22</td>\n",
       "    </tr>\n",
       "  </tbody>\n",
       "</table>\n",
       "</div>"
      ],
      "text/plain": [
       "                             Name  Year_of_Release         Genre  \\\n",
       "0       Call of Duty: Black Ops 3           2015.0       Shooter   \n",
       "1              Grand Theft Auto V           2014.0        Action   \n",
       "2  Call of Duty: Advanced Warfare           2014.0       Shooter   \n",
       "3               Halo 5: Guardians           2015.0       Shooter   \n",
       "4                       Fallout 4           2015.0  Role-Playing   \n",
       "\n",
       "                Publisher  NA_Sales  EU_Sales  JP_Sales  Other_Sales  \\\n",
       "0              Activision      4.59      2.11      0.01         0.68   \n",
       "1    Take-Two Interactive      2.81      2.19      0.00         0.47   \n",
       "2              Activision      3.22      1.55      0.01         0.48   \n",
       "3  Microsoft Game Studios      2.78      1.27      0.03         0.41   \n",
       "4      Bethesda Softworks      2.51      1.32      0.01         0.38   \n",
       "\n",
       "   Global_Sales  \n",
       "0          7.39  \n",
       "1          5.48  \n",
       "2          5.27  \n",
       "3          4.48  \n",
       "4          4.22  "
      ]
     },
     "execution_count": 2,
     "metadata": {},
     "output_type": "execute_result"
    }
   ],
   "source": [
    "xone = pd.read_csv('xboxone.csv')\n",
    "xone.head()"
   ]
  },
  {
   "cell_type": "code",
   "execution_count": 3,
   "metadata": {},
   "outputs": [],
   "source": [
    "# Rounding the data so it cuts of those continuos variables\n",
    "xone = xone.round()"
   ]
  },
  {
   "cell_type": "code",
   "execution_count": 4,
   "metadata": {},
   "outputs": [],
   "source": [
    "# Dropping the column that contained less information\n",
    "xone.drop(['Other_Sales'], axis=1, inplace=True)"
   ]
  },
  {
   "cell_type": "code",
   "execution_count": 5,
   "metadata": {},
   "outputs": [],
   "source": [
    "# Initating the label encoder\n",
    "le = LabelEncoder()\n",
    "\n",
    "# Columns i need to labelencode before fitting to a model\n",
    "s = (xone.dtypes == 'object')\n",
    "object_cols = list(s[s].index)\n",
    "\n",
    "# Label encoding the columns and replacing the old columns with the new encoded data\n",
    "for i in object_cols:\n",
    "    xone[i] = le.fit_transform(xone[i])\n",
    "    "
   ]
  },
  {
   "cell_type": "code",
   "execution_count": 6,
   "metadata": {},
   "outputs": [],
   "source": [
    "# Breaking up my data to then model\n",
    "used_col = [c for c in xone.columns.tolist() if c not in ['Global_Sales']]\n",
    "X, y = xone[used_col], xone.Global_Sales\n",
    "\n",
    "X_train, X_test, y_train, y_test = train_test_split(X, y)"
   ]
  },
  {
   "cell_type": "code",
   "execution_count": 7,
   "metadata": {},
   "outputs": [],
   "source": [
    "# Initiating my classification model to fit into cross validation\n",
    "rfc = RandomForestRegressor(random_state=42, n_estimators=250, max_depth=4, min_samples_split=6)\n",
    "\n",
    "\n",
    "rfc.fit(X_train, y_train)\n",
    "\n",
    "train_pred = rfc.predict(X_train)\n",
    "test_pred = rfc.predict(X_test)\n",
    "\n",
    "predictions = rfc.predict(X)"
   ]
  },
  {
   "cell_type": "code",
   "execution_count": 8,
   "metadata": {},
   "outputs": [
    {
     "name": "stdout",
     "output_type": "stream",
     "text": [
      "Train MAE: 0.23827113951734608\n",
      "Train R2: 0.8667668458386355\n",
      "Test MAE: 0.28879757568012593\n",
      "Test R2: 0.7129644585008492\n"
     ]
    }
   ],
   "source": [
    "# Getting my scores for my predictions\n",
    "print(\"Train MAE:\", mean_absolute_error(train_pred, y_train))\n",
    "print(\"Train R2:\", r2_score(train_pred, y_train))\n",
    "\n",
    "print(\"Test MAE:\", mean_absolute_error(test_pred, y_test))\n",
    "print(\"Test R2:\", r2_score(test_pred, y_test))"
   ]
  },
  {
   "cell_type": "code",
   "execution_count": 9,
   "metadata": {},
   "outputs": [],
   "source": [
    "xone['Predictions'] = predictions"
   ]
  },
  {
   "cell_type": "code",
   "execution_count": 10,
   "metadata": {},
   "outputs": [
    {
     "data": {
      "text/html": [
       "<div>\n",
       "<style scoped>\n",
       "    .dataframe tbody tr th:only-of-type {\n",
       "        vertical-align: middle;\n",
       "    }\n",
       "\n",
       "    .dataframe tbody tr th {\n",
       "        vertical-align: top;\n",
       "    }\n",
       "\n",
       "    .dataframe thead th {\n",
       "        text-align: right;\n",
       "    }\n",
       "</style>\n",
       "<table border=\"1\" class=\"dataframe\">\n",
       "  <thead>\n",
       "    <tr style=\"text-align: right;\">\n",
       "      <th></th>\n",
       "      <th>Name</th>\n",
       "      <th>Year_of_Release</th>\n",
       "      <th>Genre</th>\n",
       "      <th>Publisher</th>\n",
       "      <th>NA_Sales</th>\n",
       "      <th>EU_Sales</th>\n",
       "      <th>JP_Sales</th>\n",
       "      <th>Global_Sales</th>\n",
       "      <th>Predictions</th>\n",
       "    </tr>\n",
       "  </thead>\n",
       "  <tbody>\n",
       "    <tr>\n",
       "      <td>0</td>\n",
       "      <td>30</td>\n",
       "      <td>2015.0</td>\n",
       "      <td>7</td>\n",
       "      <td>2</td>\n",
       "      <td>5.0</td>\n",
       "      <td>2.0</td>\n",
       "      <td>0.0</td>\n",
       "      <td>7.0</td>\n",
       "      <td>5.511135</td>\n",
       "    </tr>\n",
       "    <tr>\n",
       "      <td>1</td>\n",
       "      <td>91</td>\n",
       "      <td>2014.0</td>\n",
       "      <td>0</td>\n",
       "      <td>39</td>\n",
       "      <td>3.0</td>\n",
       "      <td>2.0</td>\n",
       "      <td>0.0</td>\n",
       "      <td>5.0</td>\n",
       "      <td>4.626261</td>\n",
       "    </tr>\n",
       "    <tr>\n",
       "      <td>2</td>\n",
       "      <td>29</td>\n",
       "      <td>2014.0</td>\n",
       "      <td>7</td>\n",
       "      <td>2</td>\n",
       "      <td>3.0</td>\n",
       "      <td>2.0</td>\n",
       "      <td>0.0</td>\n",
       "      <td>5.0</td>\n",
       "      <td>5.043435</td>\n",
       "    </tr>\n",
       "    <tr>\n",
       "      <td>3</td>\n",
       "      <td>93</td>\n",
       "      <td>2015.0</td>\n",
       "      <td>7</td>\n",
       "      <td>25</td>\n",
       "      <td>3.0</td>\n",
       "      <td>1.0</td>\n",
       "      <td>0.0</td>\n",
       "      <td>4.0</td>\n",
       "      <td>3.440034</td>\n",
       "    </tr>\n",
       "    <tr>\n",
       "      <td>4</td>\n",
       "      <td>74</td>\n",
       "      <td>2015.0</td>\n",
       "      <td>6</td>\n",
       "      <td>5</td>\n",
       "      <td>3.0</td>\n",
       "      <td>1.0</td>\n",
       "      <td>0.0</td>\n",
       "      <td>4.0</td>\n",
       "      <td>3.559623</td>\n",
       "    </tr>\n",
       "    <tr>\n",
       "      <td>...</td>\n",
       "      <td>...</td>\n",
       "      <td>...</td>\n",
       "      <td>...</td>\n",
       "      <td>...</td>\n",
       "      <td>...</td>\n",
       "      <td>...</td>\n",
       "      <td>...</td>\n",
       "      <td>...</td>\n",
       "      <td>...</td>\n",
       "    </tr>\n",
       "    <tr>\n",
       "      <td>242</td>\n",
       "      <td>202</td>\n",
       "      <td>2016.0</td>\n",
       "      <td>5</td>\n",
       "      <td>26</td>\n",
       "      <td>0.0</td>\n",
       "      <td>0.0</td>\n",
       "      <td>0.0</td>\n",
       "      <td>0.0</td>\n",
       "      <td>0.123564</td>\n",
       "    </tr>\n",
       "    <tr>\n",
       "      <td>243</td>\n",
       "      <td>184</td>\n",
       "      <td>2016.0</td>\n",
       "      <td>9</td>\n",
       "      <td>3</td>\n",
       "      <td>0.0</td>\n",
       "      <td>0.0</td>\n",
       "      <td>0.0</td>\n",
       "      <td>0.0</td>\n",
       "      <td>0.116987</td>\n",
       "    </tr>\n",
       "    <tr>\n",
       "      <td>244</td>\n",
       "      <td>243</td>\n",
       "      <td>2016.0</td>\n",
       "      <td>0</td>\n",
       "      <td>43</td>\n",
       "      <td>0.0</td>\n",
       "      <td>0.0</td>\n",
       "      <td>0.0</td>\n",
       "      <td>0.0</td>\n",
       "      <td>0.136326</td>\n",
       "    </tr>\n",
       "    <tr>\n",
       "      <td>245</td>\n",
       "      <td>156</td>\n",
       "      <td>2016.0</td>\n",
       "      <td>0</td>\n",
       "      <td>18</td>\n",
       "      <td>0.0</td>\n",
       "      <td>0.0</td>\n",
       "      <td>0.0</td>\n",
       "      <td>0.0</td>\n",
       "      <td>0.118093</td>\n",
       "    </tr>\n",
       "    <tr>\n",
       "      <td>246</td>\n",
       "      <td>125</td>\n",
       "      <td>2016.0</td>\n",
       "      <td>0</td>\n",
       "      <td>20</td>\n",
       "      <td>0.0</td>\n",
       "      <td>0.0</td>\n",
       "      <td>0.0</td>\n",
       "      <td>0.0</td>\n",
       "      <td>0.147721</td>\n",
       "    </tr>\n",
       "  </tbody>\n",
       "</table>\n",
       "<p>247 rows × 9 columns</p>\n",
       "</div>"
      ],
      "text/plain": [
       "     Name  Year_of_Release  Genre  Publisher  NA_Sales  EU_Sales  JP_Sales  \\\n",
       "0      30           2015.0      7          2       5.0       2.0       0.0   \n",
       "1      91           2014.0      0         39       3.0       2.0       0.0   \n",
       "2      29           2014.0      7          2       3.0       2.0       0.0   \n",
       "3      93           2015.0      7         25       3.0       1.0       0.0   \n",
       "4      74           2015.0      6          5       3.0       1.0       0.0   \n",
       "..    ...              ...    ...        ...       ...       ...       ...   \n",
       "242   202           2016.0      5         26       0.0       0.0       0.0   \n",
       "243   184           2016.0      9          3       0.0       0.0       0.0   \n",
       "244   243           2016.0      0         43       0.0       0.0       0.0   \n",
       "245   156           2016.0      0         18       0.0       0.0       0.0   \n",
       "246   125           2016.0      0         20       0.0       0.0       0.0   \n",
       "\n",
       "     Global_Sales  Predictions  \n",
       "0             7.0     5.511135  \n",
       "1             5.0     4.626261  \n",
       "2             5.0     5.043435  \n",
       "3             4.0     3.440034  \n",
       "4             4.0     3.559623  \n",
       "..            ...          ...  \n",
       "242           0.0     0.123564  \n",
       "243           0.0     0.116987  \n",
       "244           0.0     0.136326  \n",
       "245           0.0     0.118093  \n",
       "246           0.0     0.147721  \n",
       "\n",
       "[247 rows x 9 columns]"
      ]
     },
     "execution_count": 10,
     "metadata": {},
     "output_type": "execute_result"
    }
   ],
   "source": [
    "# Viewing how my model did\n",
    "xone"
   ]
  },
  {
   "cell_type": "code",
   "execution_count": 13,
   "metadata": {},
   "outputs": [
    {
     "name": "stdout",
     "output_type": "stream",
     "text": [
      "Global sales for xbox one 138.0\n",
      "Global Sales Predictions: 131.67\n",
      "2013.0 - 2016.0\n"
     ]
    }
   ],
   "source": [
    "print(\"Global sales for xbox one\", xone.Global_Sales.sum().round(2))\n",
    "print(\"Global Sales Predictions:\", xone.Predictions.sum().round(2))\n",
    "print(xone.Year_of_Release.min(), \"-\", xone.Year_of_Release.max())"
   ]
  },
  {
   "cell_type": "markdown",
   "metadata": {},
   "source": [
    "# Ps4 game system model predictions"
   ]
  },
  {
   "cell_type": "code",
   "execution_count": 14,
   "metadata": {},
   "outputs": [
    {
     "data": {
      "text/html": [
       "<div>\n",
       "<style scoped>\n",
       "    .dataframe tbody tr th:only-of-type {\n",
       "        vertical-align: middle;\n",
       "    }\n",
       "\n",
       "    .dataframe tbody tr th {\n",
       "        vertical-align: top;\n",
       "    }\n",
       "\n",
       "    .dataframe thead th {\n",
       "        text-align: right;\n",
       "    }\n",
       "</style>\n",
       "<table border=\"1\" class=\"dataframe\">\n",
       "  <thead>\n",
       "    <tr style=\"text-align: right;\">\n",
       "      <th></th>\n",
       "      <th>Name</th>\n",
       "      <th>Year_of_Release</th>\n",
       "      <th>Genre</th>\n",
       "      <th>Publisher</th>\n",
       "      <th>NA_Sales</th>\n",
       "      <th>EU_Sales</th>\n",
       "      <th>JP_Sales</th>\n",
       "      <th>Other_Sales</th>\n",
       "      <th>Global_Sales</th>\n",
       "    </tr>\n",
       "  </thead>\n",
       "  <tbody>\n",
       "    <tr>\n",
       "      <td>0</td>\n",
       "      <td>Call of Duty: Black Ops 3</td>\n",
       "      <td>2015.0</td>\n",
       "      <td>Shooter</td>\n",
       "      <td>Activision</td>\n",
       "      <td>6.03</td>\n",
       "      <td>5.86</td>\n",
       "      <td>0.36</td>\n",
       "      <td>2.38</td>\n",
       "      <td>14.63</td>\n",
       "    </tr>\n",
       "    <tr>\n",
       "      <td>1</td>\n",
       "      <td>Grand Theft Auto V</td>\n",
       "      <td>2014.0</td>\n",
       "      <td>Action</td>\n",
       "      <td>Take-Two Interactive</td>\n",
       "      <td>3.96</td>\n",
       "      <td>6.31</td>\n",
       "      <td>0.38</td>\n",
       "      <td>1.97</td>\n",
       "      <td>12.61</td>\n",
       "    </tr>\n",
       "    <tr>\n",
       "      <td>2</td>\n",
       "      <td>FIFA 16</td>\n",
       "      <td>2015.0</td>\n",
       "      <td>Sports</td>\n",
       "      <td>Electronic Arts</td>\n",
       "      <td>1.12</td>\n",
       "      <td>6.12</td>\n",
       "      <td>0.06</td>\n",
       "      <td>1.28</td>\n",
       "      <td>8.57</td>\n",
       "    </tr>\n",
       "    <tr>\n",
       "      <td>3</td>\n",
       "      <td>Star Wars Battlefront (2015)</td>\n",
       "      <td>2015.0</td>\n",
       "      <td>Shooter</td>\n",
       "      <td>Electronic Arts</td>\n",
       "      <td>2.99</td>\n",
       "      <td>3.49</td>\n",
       "      <td>0.22</td>\n",
       "      <td>1.28</td>\n",
       "      <td>7.98</td>\n",
       "    </tr>\n",
       "    <tr>\n",
       "      <td>4</td>\n",
       "      <td>Call of Duty: Advanced Warfare</td>\n",
       "      <td>2014.0</td>\n",
       "      <td>Shooter</td>\n",
       "      <td>Activision</td>\n",
       "      <td>2.81</td>\n",
       "      <td>3.48</td>\n",
       "      <td>0.14</td>\n",
       "      <td>1.23</td>\n",
       "      <td>7.66</td>\n",
       "    </tr>\n",
       "  </tbody>\n",
       "</table>\n",
       "</div>"
      ],
      "text/plain": [
       "                             Name  Year_of_Release    Genre  \\\n",
       "0       Call of Duty: Black Ops 3           2015.0  Shooter   \n",
       "1              Grand Theft Auto V           2014.0   Action   \n",
       "2                         FIFA 16           2015.0   Sports   \n",
       "3    Star Wars Battlefront (2015)           2015.0  Shooter   \n",
       "4  Call of Duty: Advanced Warfare           2014.0  Shooter   \n",
       "\n",
       "              Publisher  NA_Sales  EU_Sales  JP_Sales  Other_Sales  \\\n",
       "0            Activision      6.03      5.86      0.36         2.38   \n",
       "1  Take-Two Interactive      3.96      6.31      0.38         1.97   \n",
       "2       Electronic Arts      1.12      6.12      0.06         1.28   \n",
       "3       Electronic Arts      2.99      3.49      0.22         1.28   \n",
       "4            Activision      2.81      3.48      0.14         1.23   \n",
       "\n",
       "   Global_Sales  \n",
       "0         14.63  \n",
       "1         12.61  \n",
       "2          8.57  \n",
       "3          7.98  \n",
       "4          7.66  "
      ]
     },
     "execution_count": 14,
     "metadata": {},
     "output_type": "execute_result"
    }
   ],
   "source": [
    "ps4 = pd.read_csv('ps4.csv')\n",
    "ps4.drop('level_0', axis=1, inplace=True)\n",
    "ps4.head()"
   ]
  },
  {
   "cell_type": "code",
   "execution_count": 15,
   "metadata": {},
   "outputs": [],
   "source": [
    "ps4 = ps4.round(2)"
   ]
  },
  {
   "cell_type": "code",
   "execution_count": 16,
   "metadata": {},
   "outputs": [],
   "source": [
    "p = (ps4.dtypes == 'object')\n",
    "label_cols = list(p[p].index)\n",
    "\n",
    "# Label encoding the columns and replacing the old columns with the new encoded data\n",
    "for e in label_cols:\n",
    "    ps4[e] = le.fit_transform(ps4[e])"
   ]
  },
  {
   "cell_type": "code",
   "execution_count": 17,
   "metadata": {},
   "outputs": [],
   "source": [
    "p_col = [c for c in ps4.columns.tolist() if c not in ['Global_Sales']]\n",
    "X_p, y_p = ps4[used_col], ps4.Global_Sales\n",
    "\n",
    "X_train_p, X_test_p, y_train_p, y_test_p = train_test_split(X_p, y_p)"
   ]
  },
  {
   "cell_type": "code",
   "execution_count": 18,
   "metadata": {},
   "outputs": [],
   "source": [
    "rfc_ps4 = RandomForestRegressor(random_state=42, n_estimators=250, max_depth=4, min_samples_split=6)\n",
    "\n",
    "\n",
    "rfc_ps4.fit(X_train_p, y_train_p)\n",
    "\n",
    "train_pred_p = rfc_ps4.predict(X_train_p)\n",
    "test_pred_p = rfc_ps4.predict(X_test_p)\n",
    "\n",
    "predictions_p = rfc_ps4.predict(X_p)"
   ]
  },
  {
   "cell_type": "code",
   "execution_count": 19,
   "metadata": {},
   "outputs": [
    {
     "name": "stdout",
     "output_type": "stream",
     "text": [
      "Train MAE: 0.09010560612713912\n",
      "Train R2: 0.971876735038574\n",
      "Test MAE: 0.07671772028891258\n",
      "Test R2: 0.9857341449962435\n"
     ]
    }
   ],
   "source": [
    "print(\"Train MAE:\", mean_absolute_error(train_pred_p, y_train_p))\n",
    "print(\"Train R2:\", r2_score(train_pred_p, y_train_p))\n",
    "\n",
    "print(\"Test MAE:\", mean_absolute_error(test_pred_p, y_test_p))\n",
    "print(\"Test R2:\", r2_score(test_pred_p, y_test_p))"
   ]
  },
  {
   "cell_type": "code",
   "execution_count": 20,
   "metadata": {},
   "outputs": [],
   "source": [
    "ps4['Predictions'] = predictions_p"
   ]
  },
  {
   "cell_type": "code",
   "execution_count": 22,
   "metadata": {},
   "outputs": [
    {
     "name": "stdout",
     "output_type": "stream",
     "text": [
      "Global sales for ps4 314.23\n",
      "Global Sales Predictions: 312.3\n",
      "2013.0 - 2017.0\n"
     ]
    }
   ],
   "source": [
    "print(\"Global sales for ps4\", ps4.Global_Sales.sum().round(2))\n",
    "print(\"Global Sales Predictions:\", ps4.Predictions.sum().round(2))\n",
    "print(ps4.Year_of_Release.min(), \"-\", ps4.Year_of_Release.max())"
   ]
  },
  {
   "cell_type": "markdown",
   "metadata": {},
   "source": [
    "# Importing N64 game system and feeding it to a model"
   ]
  },
  {
   "cell_type": "code",
   "execution_count": null,
   "metadata": {},
   "outputs": [],
   "source": [
    "n64 = pd.read_csv('n64.csv')\n",
    "\n",
    "n64.head(5)"
   ]
  },
  {
   "cell_type": "code",
   "execution_count": null,
   "metadata": {},
   "outputs": [],
   "source": [
    "# Checking for the type categorical type columns\n",
    "n = (n64.dtypes == 'object')\n",
    "n_cols = list(n[n].index)\n",
    "\n",
    "# Label encoding the columns and replacing the old columns with the new encoded data\n",
    "for h in n_cols:\n",
    "    n64[h] = le.fit_transform(n64[h])"
   ]
  },
  {
   "cell_type": "code",
   "execution_count": null,
   "metadata": {},
   "outputs": [],
   "source": [
    "# Splitting my data to fit into a regressin model\n",
    "n_col = [c for c in n64.columns.tolist() if c not in ['Global_Sales']]\n",
    "X_n, y_n = n64[n_col], n64.Global_Sales\n",
    "\n",
    "X_train_n, X_test_n, y_train_n, y_test_n = train_test_split(X_n, y_n)"
   ]
  },
  {
   "cell_type": "code",
   "execution_count": null,
   "metadata": {},
   "outputs": [],
   "source": [
    "rfc_n64 = RandomForestRegressor(random_state=42, n_estimators=250, max_depth=4, min_samples_split=6)\n",
    "\n",
    "\n",
    "rfc_n64.fit(X_train_n, y_train_n)\n",
    "\n",
    "train_pred_n = rfc_n64.predict(X_train_n)\n",
    "test_pred_n = rfc_n64.predict(X_test_n)\n",
    "\n",
    "predictions_n = rfc_n64.predict(X_n)"
   ]
  },
  {
   "cell_type": "code",
   "execution_count": null,
   "metadata": {},
   "outputs": [],
   "source": [
    "# Viewing my scores for my train and test data\n",
    "print(\"Train MAE:\", mean_absolute_error(train_pred_n, y_train_n))\n",
    "print(\"Train R2:\", r2_score(train_pred_n, y_train_n))\n",
    "\n",
    "print(\"Test MAE:\", mean_absolute_error(test_pred_n, y_test_n))\n",
    "print(\"Test R2:\", r2_score(test_pred_n, y_test_n))"
   ]
  },
  {
   "cell_type": "code",
   "execution_count": null,
   "metadata": {},
   "outputs": [],
   "source": [
    "# Adding my predictions back to my dataframe\n",
    "n64['Predictions'] = predictions_n"
   ]
  },
  {
   "cell_type": "code",
   "execution_count": null,
   "metadata": {},
   "outputs": [],
   "source": [
    "n64"
   ]
  },
  {
   "cell_type": "code",
   "execution_count": null,
   "metadata": {},
   "outputs": [],
   "source": [
    "# Getting the date range from when the games where released and how much it sold in total between those years\n",
    "print(n64.Year_of_Release.min(), \"-\", n64.Year_of_Release.max())\n",
    "\n",
    "print(\"Total Sales in millions per unit\", n64.Global_Sales.sum().round(2))"
   ]
  },
  {
   "cell_type": "code",
   "execution_count": null,
   "metadata": {},
   "outputs": [],
   "source": [
    "# Getting the predicion sum to compare to the whole data\n",
    "\n",
    "print(\"What my model predictions is:\", n64.Predictions.sum().round(2))"
   ]
  },
  {
   "cell_type": "markdown",
   "metadata": {},
   "source": [
    "# Viewing the sales for Game Cube"
   ]
  },
  {
   "cell_type": "code",
   "execution_count": null,
   "metadata": {},
   "outputs": [],
   "source": [
    "GameCube = pd.read_csv('gc.csv')\n",
    "\n",
    "GameCube.head()"
   ]
  },
  {
   "cell_type": "code",
   "execution_count": null,
   "metadata": {},
   "outputs": [],
   "source": [
    "g = (GameCube.dtypes == 'object')\n",
    "g_cols = list(g[g].index)\n",
    "\n",
    "# Label encoding the columns and replacing the old columns with the new encoded data\n",
    "for c in g_cols:\n",
    "    GameCube[c] = le.fit_transform(GameCube[c])"
   ]
  },
  {
   "cell_type": "code",
   "execution_count": null,
   "metadata": {},
   "outputs": [],
   "source": [
    "# Breaking up my data\n",
    "g_col = [c for c in GameCube.columns.tolist() if c not in ['Global_Sales']]\n",
    "X_g, y_g = GameCube[g_col], GameCube.Global_Sales\n",
    "\n",
    "X_train_g, X_test_g, y_train_g, y_test_g = train_test_split(X_g, y_g)"
   ]
  },
  {
   "cell_type": "code",
   "execution_count": null,
   "metadata": {},
   "outputs": [],
   "source": [
    "rfc_Gc = RandomForestRegressor(random_state=42, n_estimators=250, max_depth=4, min_samples_split=6)\n",
    "\n",
    "\n",
    "rfc_Gc.fit(X_train_g, y_train_g)\n",
    "\n",
    "train_pred_g = rfc_Gc.predict(X_train_g)\n",
    "test_pred_g = rfc_Gc.predict(X_test_g)\n",
    "\n",
    "predictions_g = rfc_Gc.predict(X_g)"
   ]
  },
  {
   "cell_type": "code",
   "execution_count": null,
   "metadata": {},
   "outputs": [],
   "source": [
    "print(\"Train MAE:\", mean_absolute_error(train_pred_g, y_train_g))\n",
    "print(\"Train R2:\", r2_score(train_pred_g, y_train_g))\n",
    "\n",
    "print(\"Test MAE:\", mean_absolute_error(test_pred_g, y_test_g))\n",
    "print(\"Test R2:\", r2_score(test_pred_g, y_test_g))"
   ]
  },
  {
   "cell_type": "code",
   "execution_count": null,
   "metadata": {},
   "outputs": [],
   "source": [
    "GameCube['Predictions'] = predictions_g"
   ]
  },
  {
   "cell_type": "code",
   "execution_count": null,
   "metadata": {},
   "outputs": [],
   "source": [
    "GameCube.Global_Sales.plot()\n",
    "GameCube.Predictions.plot(figsize=(16,10));"
   ]
  },
  {
   "cell_type": "code",
   "execution_count": null,
   "metadata": {},
   "outputs": [],
   "source": [
    "# Grabbing the range the video games released and how much sales where made during that time frame\n",
    "print(GameCube.Year_of_Release.min(), \"-\", GameCube.Year_of_Release.max())\n",
    "\n",
    "print(\"Total Sales in millions per unit\", GameCube.Global_Sales.sum().round(2))\n",
    "print(\"Total Sales in millions per unit\", GameCube.Predictions.sum().round(2))"
   ]
  }
 ],
 "metadata": {
  "kernelspec": {
   "display_name": "Python [conda env:learn-env] *",
   "language": "python",
   "name": "conda-env-learn-env-py"
  },
  "language_info": {
   "codemirror_mode": {
    "name": "ipython",
    "version": 3
   },
   "file_extension": ".py",
   "mimetype": "text/x-python",
   "name": "python",
   "nbconvert_exporter": "python",
   "pygments_lexer": "ipython3",
   "version": "3.6.9"
  }
 },
 "nbformat": 4,
 "nbformat_minor": 2
}
