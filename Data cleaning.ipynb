{
 "cells": [
  {
   "cell_type": "markdown",
   "metadata": {},
   "source": [
    "# This notebook is just a cleaning notebook in order to get rid of columns that have to much nan or missing values\n",
    "# Also breaking up the video game dataset into dataframes with individual platforms"
   ]
  },
  {
   "cell_type": "code",
   "execution_count": null,
   "metadata": {},
   "outputs": [],
   "source": [
    "import pandas as pd"
   ]
  },
  {
   "cell_type": "code",
   "execution_count": null,
   "metadata": {},
   "outputs": [],
   "source": [
    "df = pd.read_csv('Video_Games_Sales_as_at_22_Dec_2016.csv')"
   ]
  },
  {
   "cell_type": "markdown",
   "metadata": {},
   "source": [
    "# Dropping columns i did not find usefull to my research and that had way to many missing values"
   ]
  },
  {
   "cell_type": "code",
   "execution_count": null,
   "metadata": {},
   "outputs": [],
   "source": [
    "df.drop(['Rating', 'Developer', 'User_Count', 'User_Score', 'Critic_Count', 'Critic_Score'], axis=1, inplace=True)\n",
    "df.dropna(inplace=True)"
   ]
  },
  {
   "cell_type": "code",
   "execution_count": null,
   "metadata": {},
   "outputs": [],
   "source": [
    "# Started looking at all the video game systems that i might find usefull\n",
    "df.Platform.unique()"
   ]
  },
  {
   "cell_type": "markdown",
   "metadata": {},
   "source": [
    "# Grabbing one of the most popular game system as of 2020 (XBOX ONE)"
   ]
  },
  {
   "cell_type": "code",
   "execution_count": null,
   "metadata": {},
   "outputs": [],
   "source": [
    "# Grabbing all the instances of xboxone platform\n",
    "XOne = df.loc[df.Platform == 'XOne'].copy()"
   ]
  },
  {
   "cell_type": "code",
   "execution_count": null,
   "metadata": {},
   "outputs": [],
   "source": [
    "XOne.reset_index(inplace=True)\n",
    "XOne.drop(['index', 'Platform'], axis=1, inplace=True)"
   ]
  },
  {
   "cell_type": "code",
   "execution_count": null,
   "metadata": {},
   "outputs": [],
   "source": [
    "XOne.to_csv('xboxone.csv', index=False)"
   ]
  },
  {
   "cell_type": "markdown",
   "metadata": {},
   "source": [
    "# Grabbing a competitor to the previous game system as of 2020 (PS4)"
   ]
  },
  {
   "cell_type": "code",
   "execution_count": null,
   "metadata": {},
   "outputs": [],
   "source": [
    "# Grabbing all instances of the ps4 platform\n",
    "Ps4 = df.loc[df.Platform == 'PS4'].copy()"
   ]
  },
  {
   "cell_type": "code",
   "execution_count": null,
   "metadata": {},
   "outputs": [],
   "source": [
    "Ps4.reset_index(inplace=True)\n",
    "Ps4.drop(['index', 'Platform'], axis=1, inplace=True)"
   ]
  },
  {
   "cell_type": "code",
   "execution_count": null,
   "metadata": {},
   "outputs": [],
   "source": [
    "Ps4.to_csv('ps4.csv', index=False)"
   ]
  },
  {
   "cell_type": "markdown",
   "metadata": {},
   "source": [
    "# Grabbing older systems to review sales in the past versus how they are as of 2020"
   ]
  },
  {
   "cell_type": "code",
   "execution_count": null,
   "metadata": {},
   "outputs": [],
   "source": [
    "# Grabbing PC systems\n",
    "PC = df.loc[df.Platform == 'PC'].copy()\n",
    "PC.reset_index(inplace=True)\n",
    "PC.drop(['index', 'Platform'], axis=1, inplace=True)\n",
    "PC.to_csv('pc.csv', index=False)"
   ]
  },
  {
   "cell_type": "code",
   "execution_count": null,
   "metadata": {},
   "outputs": [],
   "source": [
    "# Grabbing N64 and the GC because they where top competitors back in the day when the game industry was booming\n",
    "N64 = df.loc[df.Platform == 'N64'].copy()\n",
    "N64.reset_index(inplace=True)\n",
    "N64.drop(['index', 'Platform'], axis=1, inplace=True)\n",
    "N64.to_csv('n64.csv', index=False)"
   ]
  },
  {
   "cell_type": "code",
   "execution_count": null,
   "metadata": {},
   "outputs": [],
   "source": [
    "GC = df.loc[df.Platform == 'GC'].copy()\n",
    "GC.reset_index(inplace=True)\n",
    "GC.drop(['index', 'Platform'], axis=1, inplace=True)\n",
    "GC.to_csv('gc.csv', index=False)"
   ]
  },
  {
   "cell_type": "code",
   "execution_count": null,
   "metadata": {},
   "outputs": [],
   "source": []
  }
 ],
 "metadata": {
  "kernelspec": {
   "display_name": "Python [conda env:learn-env] *",
   "language": "python",
   "name": "conda-env-learn-env-py"
  },
  "language_info": {
   "codemirror_mode": {
    "name": "ipython",
    "version": 3
   },
   "file_extension": ".py",
   "mimetype": "text/x-python",
   "name": "python",
   "nbconvert_exporter": "python",
   "pygments_lexer": "ipython3",
   "version": "3.6.9"
  }
 },
 "nbformat": 4,
 "nbformat_minor": 2
}
